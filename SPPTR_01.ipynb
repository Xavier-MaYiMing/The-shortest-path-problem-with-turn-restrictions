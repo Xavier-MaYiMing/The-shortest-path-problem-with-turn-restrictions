{
 "cells": [
  {
   "cell_type": "markdown",
   "id": "522f6df5",
   "metadata": {},
   "source": [
    "## The 0-1 programming model for the shortest path problem with turn restrictions (SPPTR)"
   ]
  },
  {
   "cell_type": "code",
   "execution_count": 226,
   "id": "77a40317",
   "metadata": {},
   "outputs": [],
   "source": [
    "# Transform the network\n",
    "def transform(network, tr, s, d):\n",
    "    edges = []\n",
    "    E = []\n",
    "    w = []\n",
    "    T = []\n",
    "    S = []\n",
    "    D = []\n",
    "    E_ind = {}\n",
    "    ind = 0\n",
    "    for i in network.keys():\n",
    "        for j in network[i].keys():\n",
    "            E_ind[str((i, j))] = ind\n",
    "            E.append(ind)\n",
    "            edges.append([i, j])\n",
    "            w.append(network[i][j])\n",
    "            if i == s:\n",
    "                S.append(ind)\n",
    "            if j == d:\n",
    "                D.append(ind)\n",
    "            ind += 1\n",
    "    \n",
    "    FE = [[] for _ in range(ind)]\n",
    "    BE = [[] for _ in range(ind)]\n",
    "    \n",
    "    for t in tr:\n",
    "        ind1 = E_ind[str((t[0], t[1]))]\n",
    "        ind2 = E_ind[str((t[1], t[2]))]\n",
    "        T.append([ind1, ind2])\n",
    "    \n",
    "    for i in network.keys():\n",
    "        for j in network[i].keys():\n",
    "            ind1 = E_ind[str((i, j))]\n",
    "            for k in network[j]:\n",
    "                ind2 = E_ind[str((j, k))]\n",
    "                if [ind1, ind2] not in T:\n",
    "                    FE[ind1].append(ind2)\n",
    "                    BE[ind2].append(ind1)\n",
    "\n",
    "    return E, w, S, D, FE, BE, edges"
   ]
  },
  {
   "cell_type": "code",
   "execution_count": 227,
   "id": "ffcc6ea7",
   "metadata": {},
   "outputs": [],
   "source": [
    "# Input the network\n",
    "test_network = {\n",
    "        0: {2: 1},\n",
    "        1: {2: 1},\n",
    "        2: {0: 1, 1: 1, 3: 2, 5: 1},\n",
    "        3: {4: 1},\n",
    "        4: {5: 2},\n",
    "        5: {2: 1},\n",
    "    }\n",
    "s = 0\n",
    "d = 5\n",
    "tr = [[0, 2, 5]]\n",
    "E, w, S, D, FE, BE, edges = transform(test_network, tr, s, d)"
   ]
  },
  {
   "cell_type": "code",
   "execution_count": 228,
   "id": "13668cc3",
   "metadata": {},
   "outputs": [],
   "source": [
    "# Create optimization model\n",
    "from docplex.mp.model import Model\n",
    "spptr_model = Model(name='spptr')"
   ]
  },
  {
   "cell_type": "code",
   "execution_count": 229,
   "id": "62846501",
   "metadata": {},
   "outputs": [],
   "source": [
    "# Define decision variables\n",
    "ne = len(E)  # the number of edges\n",
    "x = spptr_model.binary_var_list(ne, name='x')\n",
    "u = spptr_model.binary_var_matrix(ne, ne, name='u')"
   ]
  },
  {
   "cell_type": "code",
   "execution_count": 230,
   "id": "56c26c1c",
   "metadata": {},
   "outputs": [],
   "source": [
    "# Define constraints\n",
    "# Eq.(1)\n",
    "eq1 = (sum(u[i, j] for j in E if j not in FE[i]) == 0 for i in E)\n",
    "c1 = spptr_model.add_constraints(eq1, names='eq1')\n",
    "\n",
    "# Eq.(2)\n",
    "# eq2 = (sum(u[i, j] for j in FE[i]) == 0 for i in D if FE[i])\n",
    "eq2 = (sum(u[i, j] for j in FE[i]) == 0 for i in D)\n",
    "c2 = spptr_model.add_constraints(eq2, names='eq2')\n",
    "\n",
    "# Eq.(3)\n",
    "# eq3 = (sum(u[i, j] for j in FE[i]) == x[i] for i in E if i not in D and FE[i])\n",
    "eq3 = (sum(u[i, j] for j in FE[i]) == x[i] for i in E if i not in D)\n",
    "c3 = spptr_model.add_constraints(eq3, names='eq3')\n",
    "\n",
    "# Eq.(4)\n",
    "# eq4 = (sum(u[i, j] for i in BE[j]) == 0 for j in S if BE[j])\n",
    "eq4 = (sum(u[i, j] for i in BE[j]) == 0 for j in S)\n",
    "c4 = spptr_model.add_constraints(eq4, names='eq4')\n",
    "\n",
    "# Eq.(5)\n",
    "# eq5 = (sum(u[i, j] for i in BE[j]) == x[j] for j in E if j not in S and BE[j])\n",
    "eq5 = (sum(u[i, j] for i in BE[j]) == x[j] for j in E if j not in S)\n",
    "c5 = spptr_model.add_constraints(eq5, names='eq5')\n",
    "\n",
    "# Eq.(6)\n",
    "eq6 = (sum(x[i] for i in E) - sum(u[i, j] for i in E for j in FE[i]) == 1)\n",
    "c6 = spptr_model.add_constraint(eq6, ctname='eq6')"
   ]
  },
  {
   "cell_type": "code",
   "execution_count": 231,
   "id": "106caa01",
   "metadata": {},
   "outputs": [],
   "source": [
    "# Define the objective function\n",
    "obj = sum(x[i] * w[i] for i in E)\n",
    "spptr_model.set_objective('min', obj)"
   ]
  },
  {
   "cell_type": "code",
   "execution_count": 232,
   "id": "9207c07a",
   "metadata": {},
   "outputs": [],
   "source": [
    "# Solve the model\n",
    "sol = spptr_model.solve()\n",
    "# spptr_model.print_information()\n",
    "# spptr_model.print_solution()\n",
    "# print(sol.solve_details)"
   ]
  },
  {
   "cell_type": "code",
   "execution_count": 233,
   "id": "9cb777b0",
   "metadata": {},
   "outputs": [
    {
     "name": "stdout",
     "output_type": "stream",
     "text": [
      "[0, 2, 1, 2, 5]\n"
     ]
    }
   ],
   "source": [
    "# Print the solution and the path\n",
    "sol_x = sol.get_value_list(x)\n",
    "sol_u = sol.get_value_dict(u)\n",
    "ind = []\n",
    "result = []\n",
    "path = [s]\n",
    "for i in range(ne):\n",
    "    if sol_x[i] != 0:\n",
    "        ind.append(i)\n",
    "for i in ind:\n",
    "    if i in S:\n",
    "        result.append(i)\n",
    "        ind.remove(i)\n",
    "while ind:\n",
    "    i = result[-1]\n",
    "    for j in ind:\n",
    "        if sol_u[(i, j)] == 1:\n",
    "            result.append(j)\n",
    "            ind.remove(j)\n",
    "            break\n",
    "for i in result:\n",
    "    path.append(edges[i][1])\n",
    "print(path)"
   ]
  },
  {
   "cell_type": "markdown",
   "id": "a4920cd8",
   "metadata": {},
   "source": [
    "The shortest path is 0-2-1-2-5, and the length is 4."
   ]
  }
 ],
 "metadata": {
  "kernelspec": {
   "display_name": "Python 3 (ipykernel)",
   "language": "python",
   "name": "python3"
  },
  "language_info": {
   "codemirror_mode": {
    "name": "ipython",
    "version": 3
   },
   "file_extension": ".py",
   "mimetype": "text/x-python",
   "name": "python",
   "nbconvert_exporter": "python",
   "pygments_lexer": "ipython3",
   "version": "3.7.9"
  }
 },
 "nbformat": 4,
 "nbformat_minor": 5
}
